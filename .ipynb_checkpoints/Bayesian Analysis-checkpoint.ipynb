{
 "cells": [
  {
   "cell_type": "markdown",
   "metadata": {},
   "source": [
    "# Introduction to Bayesian Analysis\n",
    "Aaron Y. Chan  \n",
    "1/28/2016  \n",
    "BYU DSC  \n",
    "\n",
    "## Advantages\n",
    "\n",
    "* Not much data, many explanatory variables\n",
    "* Want to avoid overfitting\n",
    "* Can inject prior beliefs\n",
    "* Conditional on the prior we choose, model gives us predictions of lowest expected loss!  Renowned Bayesian statistician Dennis Lindley oft repeated the phrase \"turning the Bayesian crank\"\n",
    "\n",
    "## Getting Started\n",
    "### Simple, motivating example\n",
    "Suppose we have a set of data of size K, $y, n$, where $y_1,...,y_K, n_1,...,n_K$.  For a simple, intuitive example, let's suppose that $y_i$ denotes the number of home runs that Barry Bonds hit out of $n_i$ at-bats.  With this data, it would be easy to tell you how **likely** the data happened **given** Barry Bonds' home-run hitting probability.  These would be just 3 rows of data: \n",
    "\n",
    "| n | y |\n",
    "|-------|\n",
    "| 3 | 1 |\n",
    "| 4 | 0 |\n",
    "| 4 | 0 |\n",
    "\n",
    "Assuming each hit is independent, we can summarize the data by summing $\\Sigma_{i=1}^Ky_i, \\Sigma_{i=1}^Kn_i$.  For this data set, the total number of at-bats was 476, and the total number of home runs was 73.\n",
    "\n",
    "So, I'm telling you that if you told me that Barry Bonds' home run hitting percentage was 35%, I could tell you how likely the above data heppened.  Using a binomial distribution, denoted by $\\binom{n}{x}\\theta^x(1 - \\theta)^{n - x}$ with $\\theta$ = home run percentage:\n",
    "\n"
   ]
  },
  {
   "cell_type": "code",
   "execution_count": 10,
   "metadata": {
    "collapsed": false
   },
   "outputs": [
    {
     "name": "stdout",
     "output_type": "stream",
     "text": [
      "4.03968150144e-22\n"
     ]
    }
   ],
   "source": [
    "%matplotlib inline\n",
    "from scipy import stats\n",
    "from matplotlib import pyplot as plt\n",
    "rv = stats.binom(476, 0.35) # Initialize Binominal distribution w n = 476, theta = 0.35\n",
    "print rv.pmf(73) # How likely was it that 73 hits were home runs?"
   ]
  },
  {
   "cell_type": "markdown",
   "metadata": {},
   "source": [
    "Some of you might be wondering why the probability is so fantastically low.  Since the binomial distribution is a probability distribution, it integrates to 1.  Thus, we should be more focused on relative probability densities than the density itself.  Notice that in the below graph, the densities never reach higher than 0.04."
   ]
  },
  {
   "cell_type": "code",
   "execution_count": 12,
   "metadata": {
    "collapsed": false
   },
   "outputs": [
    {
     "data": {
      "text/plain": [
       "[<matplotlib.lines.Line2D at 0x10994abd0>]"
      ]
     },
     "execution_count": 12,
     "metadata": {},
     "output_type": "execute_result"
    },
    {
     "data": {
      "image/png": "[encoded data removed]",
      "text/plain": [
       "<matplotlib.figure.Figure at 0x109193510>"
      ]
     },
     "metadata": {},
     "output_type": "display_data"
    }
   ],
   "source": [
    "x = range(100, 250)\n",
    "probability = stats.binom.pmf(x, 476, 0.35)\n",
    "plt.plot(x, probability, \"o\", color = \"black\")"
   ]
  },
  {
   "cell_type": "markdown",
   "metadata": {
    "collapsed": true
   },
   "source": [
    "### Problem\n",
    "\n",
    "The issue is that maybe we want to know $\\theta$, and all we have is data.  What we have is called the **likelihood function**, and we'll denote it by $f(y | \\theta)$.  Bayes theorem tells us that we can swap the conditions so that we have some $g(\\theta | y)$.  Recall that Bayes theorem says:\n",
    "\n",
    "$$\n",
    "\\begin{align*}\n",
    "Pr(A | B) = \\frac{Pr(B | A)*Pr(A)}{\\Pr(B)}\n",
    "\\end{align*}\n",
    "$$\n",
    "\n",
    "Plugging in, we have:\n",
    "\n",
    "$$\n",
    "\\begin{align*}\n",
    "g(\\theta | y) &= \\frac{f(y | \\theta) * \\pi(\\theta)}{\\int_0^1f(y | \\theta) * \\pi(\\theta)d\\theta}\n",
    "\\end{align*}\n",
    "$$\n",
    "  \n",
    "  \n",
    "You might be confused about some of these elements.  Why is there an integral term on the bottom?  What is this $\\pi(\\theta)$?  \n",
    "  \n",
    "I'll tell you about the integral term.  Notice that in Bayes theorem, we have Pr(B), and this would be the probability of the data.  How do you get that?  You would have to integrate the parameters out of the joint probability density.  \n",
    "  \n",
    "As for the $\\pi(\\theta)$, we don't have it yet.  $\\pi(\\theta)$ is a probability distribution that **we** choose, and we form it based on our **prior beliefs**.  Since we're talking about a probability, $\\theta$, I will use the Beta distribution to show my prior beliefs.  \n",
    "  \n",
    "If you're wondering where all these distributions are coming from, it's simply because there are some common ones that statisticians use, that happen to fit a variety of situations.  A binomial distribution is great for success/failure outcomes with independent trials.  A beta distribution has the domain [0, 1] and integrates to 1, which makes it ideal for representing probability distributions **on probabilities.**  \n",
    "\n",
    "The probability density function for the beta distribution is as follows:\n",
    "\n",
    "$$\n",
    "\\begin{align*}\n",
    "\\pi(\\theta | a, b) = \\frac{\\Gamma(a + b)}{\\Gamma(a)\\Gamma(b)}\\theta^{a - 1}(1 - \\theta)^{b - 1}\n",
    "\\end{align*}\n",
    "$$\n",
    "\n",
    "Notice that these distributions have \"settings,\" namely a and b, which remain constant.  These determine the shape of our distribution.\n",
    "  \n",
    "I'm going to take a guess that Bonds' true home run hitting percentage is around 0.11.  I'm somewhat certain about my guess, so I'll say that our prior distribution, $\\pi(\\theta | a, b)$ follows Beta(49, 431).  Here's a plot."
   ]
  },
  {
   "cell_type": "code",
   "execution_count": 39,
   "metadata": {
    "collapsed": false
   },
   "outputs": [
    {
     "data": {
      "text/plain": [
       "<matplotlib.text.Text at 0x10a2f5e90>"
      ]
     },
     "execution_count": 39,
     "metadata": {},
     "output_type": "execute_result"
    },
    {
     "data": {
      "image/png": "[encoded data removed]",
      "text/plain": [
       "<matplotlib.figure.Figure at 0x10c402a50>"
      ]
     },
     "metadata": {},
     "output_type": "display_data"
    }
   ],
   "source": [
    "x = map(lambda x: x/10000.0, range(0, 3000));\n",
    "prior = stats.beta(49, 431)\n",
    "plt.plot(x, prior.pdf(x), 'k-', lw=1, label='prior pdf')\n",
    "plt.suptitle('Prior Distribution', fontsize=14, fontweight='bold')"
   ]
  },
  {
   "cell_type": "markdown",
   "metadata": {},
   "source": [
    "Now we have all the pieces to complete Bayes theorem.  Let's step through it.\n",
    "\n",
    "$$\n",
    "\\begin{align*}\n",
    "g(\\theta | y) &= \\frac{f(y | \\theta)\\pi(\\theta | a, b)}{P(y)}\\\\[2ex]\n",
    "&= \\Pi_{i=1}^{n}\\frac{\\binom{n_i}{y_i}\\theta^{y_i}(1 - \\theta)^{n_i - y_i})\\frac{\\Gamma(a + b)}{\\Gamma(a)\\Gamma(b)}\\theta^{a - 1}(1 - \\theta)^{b - 1}}{\\int_0^1\\binom{n_i}{y_i}(\\theta^*)^{y_i}(1 - \\theta^*)^{n_i - y_i}\\frac{\\Gamma(a + b)}{\\Gamma(a)\\Gamma(b)}(\\theta^*)^{a - 1}(1 - \\theta^*)^{b - 1}d\\theta}\\\\[2ex]\n",
    "&= \\frac{\\Pi_{i=1}^{n}(\\binom{n_i}{y_i})\\frac{\\Gamma(a + b)}{\\Gamma(a)\\Gamma(b)}\\theta^{\\Sigma_{i=1}^{n}y_i}(1 - \\theta)^{\\Sigma_{i=1}^{n}n_i - y_i})\\theta^{a - 1}(1 - \\theta)^{b - 1}}{\\Pi_{i=1}^{n}(\\binom{n_i}{y_i})\\frac{\\Gamma(a + b)}{\\Gamma(a)\\Gamma(b)}\\int_0^1(\\theta^*)^{\\Sigma_{i=1}^{n}y_i}(1 - \\theta^*)^{\\Sigma_{i=1}^{n}n_i - y_i}(\\theta^*)^{a - 1}(1 - \\theta^*)^{b - 1}d\\theta}\\\\[2ex]\n",
    "&\\text{Note that the combinations and gamma terms cancel,}\\\\\n",
    "&= \\frac{\\theta^{\\Sigma_{i=1}^{n}(y_i) + a - 1}(1 - \\theta)^{\\Sigma_{i=1}^{n}(n_i - y_i) + b - 1}}{\\frac{\\Gamma(\\Sigma_{i=1}^{n}(y_i) + a)\\Gamma(\\Sigma_{i=1}^{n}(n_i - y_i) + b)}{\\Gamma(\\Sigma_{i=1}^{n}(y_i) + a +  \\Sigma_{i=1}^{n}(n_i - y_i) + b)}\\int_0^1\\frac{\\Gamma(\\Sigma_{i=1}^{n}(y_i) + a + \\Sigma_{i=1}^{n}(n_i - y_i) + b)}{\\Gamma(\\Sigma_{i=1}^{n}(y_i) + a)\\Gamma(\\Sigma_{i=1}^{n}(n_i - y_i) + b)}(\\theta^*)^{\\Sigma_{i=1}^{n}y_i + a - 1}(1 - \\theta^*)^{\\Sigma_{i=1}^{n}(n_i - y_i) + b - 1}d\\theta}\\\\[2ex]\n",
    "&\\text{Note that the integral term now goes to 1, by definition}\\\\[2ex]\n",
    "&= \\frac{\\Gamma(\\Sigma_{i=1}^{n}(y_i) + a +  \\Sigma_{i=1}^{n}(n_i - y_i) + b)}{\\Gamma(\\Sigma_{i=1}^{n}(y_i) + a)\\Gamma(\\Sigma_{i=1}^{n}(n_i - y_i) + b)}\\theta^{\\Sigma_{i=1}^{n}(y_i) + a - 1}(1 - \\theta)^{\\Sigma_{i=1}^{n}(n_i - y_i) + b - 1}\\\\[2ex]\n",
    "\\pi(\\theta | y) &\\sim \\text{Beta}(a + \\Sigma_{i=1}^{n}(y_i), b + \\Sigma_{i=1}^{n}(n_i - y_i))\n",
    "\\end{align*}\n",
    "$$\n",
    "\n",
    "Notice what happens here - instead of having to calculate a bunch of really hard things, I rearranged everything into another Beta distribution.  This demonstrates a **conjugate prior** relationship, where it turns out that the **posterior** distribution is of the same **family of distributions** as the prior, such that they are both Beta distributions."
   ]
  },
  {
   "cell_type": "markdown",
   "metadata": {},
   "source": [
    "What the conjugate prior tells us is that in order to obtain $g(\\theta | y)$, all we do is add $\\Sigma_{i=1}^Ky_i$ to a and $\\Sigma_{i=1}^K(n_i - y_i)$ to b, forming another beta distribution."
   ]
  },
  {
   "cell_type": "code",
   "execution_count": 37,
   "metadata": {
    "collapsed": false
   },
   "outputs": [
    {
     "data": {
      "text/plain": [
       "<matplotlib.legend.Legend at 0x10a675650>"
      ]
     },
     "execution_count": 37,
     "metadata": {},
     "output_type": "execute_result"
    },
    {
     "data": {
      "image/png": "[encoded data removed]",
      "text/plain": [
       "<matplotlib.figure.Figure at 0x10a3403d0>"
      ]
     },
     "metadata": {},
     "output_type": "display_data"
    }
   ],
   "source": [
    "xlim = map(lambda x: x / 10000.0, range(0, 3000))\n",
    "astar = 49 + 73\n",
    "bstar = 431 + (476 - 73)\n",
    "maxlikelihood = 73/476.0\n",
    "posterior = stats.beta(astar, bstar)\n",
    "plt.plot(xlim, posterior.pdf(xlim), 'k-', lw=1, label='posterior pdf')\n",
    "plt.plot(xlim, prior.pdf(xlim), 'k-', lw=1, color=\"green\", label=\"prior pdf\")\n",
    "plt.axvline(x=maxlikelihood, ymin=0, ymax=1, label=\"max likelihood\")\n",
    "plt.suptitle('Results', fontsize=14, fontweight='bold')\n",
    "plt.legend()"
   ]
  },
  {
   "cell_type": "markdown",
   "metadata": {},
   "source": [
    "Thus, given our data and prior, we have a probability distribution on what we believe Barry Bonds' home-run hitting percentage is (in 2001).  \n",
    "  \n",
    "A few key points here:\n",
    "1.  Notice the vertical blue line.  This is what the \"maximum likelihood\" would be, given the data.  That is, it's the value of $\\theta$ that would have produced **the highest** probability from $f$.  We could use this, but note that it doesn't leave any room for uncertainty!  What if we had only 4 data points, and Barry Bonds had hit 0 home runs?  It would be ridiculous to claim that $\\theta$ = 0.  With Bayesian methods we can insert a **sensible** prior distribution that gives us a starting point.\n",
    "2.  Notice that with small new additions of data, we can update the model in a proportionally small way.  See how the spread of the black distribution is smaller than that of the green?  This is because we are more certain of what $\\theta$ is."
   ]
  },
  {
   "cell_type": "markdown",
   "metadata": {},
   "source": [
    "## In the context of Kaggle\n",
    "\n",
    "Bayesian analysis lets us work of small data sets where there are many variables.  We can use our own prior knowledge to assist our models, and we can avoid the overfitting that might happen when using optimization based methods.  \n",
    "   \n",
    "But do people actually use this?  Yes they do!  Tim Salisman, one of the more known data scientists on Kaggle, won a contest, \"Don't overfit\" using Bayesian methods.  That data set had 20,000 rows but only 250 rows of training data, with 200 explanatory variables.  His model had the highest AUC.  \n",
    "  \n",
    "But how did he do the analysis on so many variables?"
   ]
  },
  {
   "cell_type": "markdown",
   "metadata": {},
   "source": [
    "## Further techniques\n",
    "### Gibbs Sampling\n",
    "\n",
    "Remember how we found the posterior distribution on $\\theta$ using Bayes theorem?  It turns out that you can use Bayes theorem with a bunch of variables - as many as you'd like.\n",
    "\n",
    "However, you'll get something like (ex: the Weibull distribution with 2 parameters):\n",
    "\n",
    "$$\n",
    "\\begin{align*}\n",
    "\\pi(\\lambda | \\text{data}, g, p, \\beta) &= \\Pi_{i=1}^n\\frac{\\frac{\\beta}{\\lambda}(x)^{\\beta-1}e^{-(\\frac{x^\\beta}{\\lambda})}\\frac{p^g}{\\Gamma(g)}\\frac{1}{\\lambda}^{g + 1}e^{\\frac{-p}{\\lambda}}}{\\int_0^1\\frac{\\beta}{\\lambda}(x)^{\\beta-1}e^{-(\\frac{x^\\beta}{\\lambda})}\\frac{p^g}{\\Gamma(g)}\\frac{1}{\\lambda}^{g + 1}e^{\\frac{-p}{\\lambda}}d\\lambda}\\\\\n",
    "\\end{align*}\n",
    "$$\n",
    "\n",
    "Suddenly things don't look so nice anymore.  Most of the time, they won't.\n"
   ]
  },
  {
   "cell_type": "markdown",
   "metadata": {},
   "source": [
    "There is a whole class of methods called Markov Chain Monte Carlo sampling, and they were made to computationally sample from \"full joint\" posterior distributions like the one above.  One of the classics is Gibbs sampling (and there are a bunch of techniques built on top of Gibbs sampling as well).  This is the technique that Tim Salisman used in his analysis.\n",
    "\n",
    "Gibbs sampling seems slightly funny at first.\n",
    "1.  For every parameter you have, say $\\theta_1,...,\\theta_K$, set a randomized initial value.\n",
    "2.  Find the \"full conditional distribution\" for that parameter, where the rest of the variables are held constant.\n",
    "3.  Update the variable by sampling from the full conditional distribution, given all the other $\\theta$.  Hopefully the full conditional is one you can tractably sample from.  Otherwise, you'll need another algorithm (Metropolis Hastings, for example).\n",
    "4.  Keep cycling between variables until you get many draws.\n",
    "\n",
    "The draws that you obtain by Gibbs sampling will **end up being from the full joint posterior**.  Why is this?"
   ]
  },
  {
   "cell_type": "markdown",
   "metadata": {},
   "source": [
    "It turns out that what you're constructing is a Markov chain, which satisfies the Markov property:\n",
    "$$\n",
    "\\begin{align*}\n",
    "p(\\theta_x | \\theta_1,...\\theta_{x - 1}) = p(\\theta_x | \\theta_{x - 1})\n",
    "\\end{align*}\n",
    "$$\n",
    "\n",
    "Futhermore, you're constructing an **ergodic** Markov chain, which means that the Markov chain is aperiodic, irreducible, and positive recurrent (it doesn't get stuck in a repeating loop, it can go to any state (could take more than 1 step), and it can eventually come back to any point).\n",
    "\n",
    "Do you know about the strong law of large numbers?  It's essentially that if you draw a sequence of independent and identically distributed random variables, each one with a finite mean, then the mean of all those draws approaches the expected value.  Essentially, it guarantees stable results in the long term for averages of random events."
   ]
  },
  {
   "cell_type": "markdown",
   "metadata": {},
   "source": [
    "The ergodic theorem of the Markov chain guarantees something similar - that we will converge onto the full joint distribution with **enough** draws.  \"Enough\" depends, but it's definitely computationally feasible.\n",
    "\n",
    "If you're curious, the Hammersley-Clifford Theorem shows that you can construct the full joint posterior from the full conditionals.\n"
   ]
  },
  {
   "cell_type": "code",
   "execution_count": null,
   "metadata": {
    "collapsed": true
   },
   "outputs": [],
   "source": [
    "xlim = map(lambda x: x / 10000.0, range(-3000, 3000))\n",
    "y = [8, 12, 10, 14, 2, 0, 0]\n",
    "muPrior = stats.norm(-5, 25)\n",
    "xlim = \n",
    "plt.plot(xlim, posterior.pdf(xlim), 'k-', lw=1, label='posterior pdf')\n"
   ]
  }
 ],
 "metadata": {
  "kernelspec": {
   "display_name": "Python 2",
   "language": "python",
   "name": "python2"
  },
  "language_info": {
   "codemirror_mode": {
    "name": "ipython",
    "version": 2
   },
   "file_extension": ".py",
   "mimetype": "text/x-python",
   "name": "python",
   "nbconvert_exporter": "python",
   "pygments_lexer": "ipython2",
   "version": "2.7.9"
  }
 },
 "nbformat": 4,
 "nbformat_minor": 0
}
