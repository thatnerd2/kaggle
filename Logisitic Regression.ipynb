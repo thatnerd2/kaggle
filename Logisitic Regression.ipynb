{
 "cells": [
  {
   "cell_type": "markdown",
   "metadata": {},
   "source": [
    "# Logistic Regression Using Scikit-Learn"
   ]
  },
  {
   "cell_type": "markdown",
   "metadata": {},
   "source": [
    "## The Model\n",
    "A logistic regression model (often called a logit model or a log-linear classifier) is a linear classification model. It is called the logistic regression because of its use of the logistic function (also known as the sigmoid function),\n",
    "$$\\Phi(z) = \\frac{1}{1+e^{-z}},$$\n",
    "which has the following graph:"
   ]
  },
  {
   "cell_type": "code",
   "execution_count": 7,
   "metadata": {
    "collapsed": false
   },
   "outputs": [
    {
     "data": {
      "image/png": "[encoded data removed]",
      "text/plain": [
       "<matplotlib.figure.Figure at 0xa70e668>"
      ]
     },
     "metadata": {},
     "output_type": "display_data"
    }
   ],
   "source": [
    "import numpy as np\n",
    "import matplotlib.pyplot as plt\n",
    "%matplotlib inline\n",
    "\n",
    "def logistic(z):\n",
    "    return 1./(1+np.exp(-z))\n",
    "\n",
    "z = np.linspace(-10, 10, 101)\n",
    "plt.plot(z, logistic(z))\n",
    "plt.show()"
   ]
  },
  {
   "cell_type": "markdown",
   "metadata": {},
   "source": [
    "As we can see, the logistic function is bound below by $0$ and above by $1$. In fact it is the shape of a distribution function.  \n",
    "\n",
    "The logistic regression model then consists of weights $W \\in \\mathbb{R}^{n+1}$ optimally chosen by training the model (usually through maximum likelihood estimation) such that for random variables $Y \\in \\{0,1\\}$ and $X \\in \\{1\\} \\times \\mathbb{R}^{n}$ we have \n",
    "$$P(Y=1|X) = \\Phi(W^TX).$$  \n",
    "\n",
    "To make this clearer lets look at an example."
   ]
  },
  {
   "cell_type": "markdown",
   "metadata": {},
   "source": [
    "## An Example\n",
    "\n",
    "This will use the Titanic dataset found at http://biostat.mc.vanderbilt.edu/wiki/Main/DataSets/titanic3.csv. An explanation of the variables in the dataset can be found at http://biostat.mc.vanderbilt.edu/wiki/pub/Main/DataSets/Ctitanic3.html.  \n",
    "\n",
    "The data lists all the passengers on the Titanic, certain features about them (like age, gender, and the class of their ticket), and whether they survived the shipwreck or not. We wish to use this data to create a logistic model that accurately predicts the probability of a passenger with a given set of features surviving the Titanic.  \n",
    "\n",
    "So, using the notation from above we have $X = (1, feature_1, feature_2, ... , feature_n)$, $Y = \n",
    "   \\begin{cases} \n",
    "      1 & \\text{if the passenger survived} \\\\\n",
    "      0 & \\text{if the passenger did not survived}\n",
    "   \\end{cases}$, and $\\hat{W}=(w_0, w_1, w_2, ... w_n)$ is to be determined.\n"
   ]
  },
  {
   "cell_type": "code",
   "execution_count": 8,
   "metadata": {
    "collapsed": false
   },
   "outputs": [],
   "source": [
    "import pandas as pd\n",
    "from sklearn.linear_model import LogisticRegression\n",
    "from sklearn.cross_validation import train_test_split\n",
    "from sklearn.metrics import roc_curve, auc"
   ]
  },
  {
   "cell_type": "code",
   "execution_count": 9,
   "metadata": {
    "collapsed": true
   },
   "outputs": [],
   "source": [
    "# Read in the data.\n",
    "f = 'http://biostat.mc.vanderbilt.edu/wiki/pub/Main/DataSets/titanic3.csv'\n",
    "data = pd.read_csv(f)\n",
    "# Drop the variables that we aren't going to use for this example.\n",
    "data = data.drop(['name','ticket','fare','cabin','embarked',\n",
    "                  'boat','body','home.dest'],1)\n",
    "# Drop observations that are missing data.\n",
    "data = data.dropna()"
   ]
  },
  {
   "cell_type": "code",
   "execution_count": 10,
   "metadata": {
    "collapsed": false
   },
   "outputs": [
    {
     "data": {
      "text/html": [
       "<div>\n",
       "<table border=\"1\" class=\"dataframe\">\n",
       "  <thead>\n",
       "    <tr style=\"text-align: right;\">\n",
       "      <th></th>\n",
       "      <th>pclass</th>\n",
       "      <th>survived</th>\n",
       "      <th>sex</th>\n",
       "      <th>age</th>\n",
       "      <th>sibsp</th>\n",
       "      <th>parch</th>\n",
       "    </tr>\n",
       "  </thead>\n",
       "  <tbody>\n",
       "    <tr>\n",
       "      <th>0</th>\n",
       "      <td>1</td>\n",
       "      <td>1</td>\n",
       "      <td>female</td>\n",
       "      <td>29.00</td>\n",
       "      <td>0</td>\n",
       "      <td>0</td>\n",
       "    </tr>\n",
       "    <tr>\n",
       "      <th>1</th>\n",
       "      <td>1</td>\n",
       "      <td>1</td>\n",
       "      <td>male</td>\n",
       "      <td>0.92</td>\n",
       "      <td>1</td>\n",
       "      <td>2</td>\n",
       "    </tr>\n",
       "    <tr>\n",
       "      <th>2</th>\n",
       "      <td>1</td>\n",
       "      <td>0</td>\n",
       "      <td>female</td>\n",
       "      <td>2.00</td>\n",
       "      <td>1</td>\n",
       "      <td>2</td>\n",
       "    </tr>\n",
       "    <tr>\n",
       "      <th>3</th>\n",
       "      <td>1</td>\n",
       "      <td>0</td>\n",
       "      <td>male</td>\n",
       "      <td>30.00</td>\n",
       "      <td>1</td>\n",
       "      <td>2</td>\n",
       "    </tr>\n",
       "    <tr>\n",
       "      <th>4</th>\n",
       "      <td>1</td>\n",
       "      <td>0</td>\n",
       "      <td>female</td>\n",
       "      <td>25.00</td>\n",
       "      <td>1</td>\n",
       "      <td>2</td>\n",
       "    </tr>\n",
       "    <tr>\n",
       "      <th>5</th>\n",
       "      <td>1</td>\n",
       "      <td>1</td>\n",
       "      <td>male</td>\n",
       "      <td>48.00</td>\n",
       "      <td>0</td>\n",
       "      <td>0</td>\n",
       "    </tr>\n",
       "    <tr>\n",
       "      <th>6</th>\n",
       "      <td>1</td>\n",
       "      <td>1</td>\n",
       "      <td>female</td>\n",
       "      <td>63.00</td>\n",
       "      <td>1</td>\n",
       "      <td>0</td>\n",
       "    </tr>\n",
       "    <tr>\n",
       "      <th>7</th>\n",
       "      <td>1</td>\n",
       "      <td>0</td>\n",
       "      <td>male</td>\n",
       "      <td>39.00</td>\n",
       "      <td>0</td>\n",
       "      <td>0</td>\n",
       "    </tr>\n",
       "    <tr>\n",
       "      <th>8</th>\n",
       "      <td>1</td>\n",
       "      <td>1</td>\n",
       "      <td>female</td>\n",
       "      <td>53.00</td>\n",
       "      <td>2</td>\n",
       "      <td>0</td>\n",
       "    </tr>\n",
       "    <tr>\n",
       "      <th>9</th>\n",
       "      <td>1</td>\n",
       "      <td>0</td>\n",
       "      <td>male</td>\n",
       "      <td>71.00</td>\n",
       "      <td>0</td>\n",
       "      <td>0</td>\n",
       "    </tr>\n",
       "  </tbody>\n",
       "</table>\n",
       "</div>"
      ],
      "text/plain": [
       "   pclass  survived     sex    age  sibsp  parch\n",
       "0       1         1  female  29.00      0      0\n",
       "1       1         1    male   0.92      1      2\n",
       "2       1         0  female   2.00      1      2\n",
       "3       1         0    male  30.00      1      2\n",
       "4       1         0  female  25.00      1      2\n",
       "5       1         1    male  48.00      0      0\n",
       "6       1         1  female  63.00      1      0\n",
       "7       1         0    male  39.00      0      0\n",
       "8       1         1  female  53.00      2      0\n",
       "9       1         0    male  71.00      0      0"
      ]
     },
     "execution_count": 10,
     "metadata": {},
     "output_type": "execute_result"
    }
   ],
   "source": [
    "data.head(10)"
   ]
  },
  {
   "cell_type": "code",
   "execution_count": 11,
   "metadata": {
    "collapsed": true
   },
   "outputs": [],
   "source": [
    "# Change the 'sex' column to be a binary variable with 1 for female\n",
    "# and 0 for male.\n",
    "data = data.replace(['female', 'male'], [1, 0])\n",
    "# Create binary variables indicating first class and second class.\n",
    "data['pclass1'] = (data['pclass']==1).astype(int)\n",
    "data['pclass2'] = (data['pclass']==2).astype(int)"
   ]
  },
  {
   "cell_type": "code",
   "execution_count": 12,
   "metadata": {
    "collapsed": false
   },
   "outputs": [
    {
     "data": {
      "text/html": [
       "<div>\n",
       "<table border=\"1\" class=\"dataframe\">\n",
       "  <thead>\n",
       "    <tr style=\"text-align: right;\">\n",
       "      <th></th>\n",
       "      <th>pclass</th>\n",
       "      <th>survived</th>\n",
       "      <th>sex</th>\n",
       "      <th>age</th>\n",
       "      <th>sibsp</th>\n",
       "      <th>parch</th>\n",
       "      <th>pclass1</th>\n",
       "      <th>pclass2</th>\n",
       "    </tr>\n",
       "  </thead>\n",
       "  <tbody>\n",
       "    <tr>\n",
       "      <th>0</th>\n",
       "      <td>1</td>\n",
       "      <td>1</td>\n",
       "      <td>1</td>\n",
       "      <td>29.00</td>\n",
       "      <td>0</td>\n",
       "      <td>0</td>\n",
       "      <td>1</td>\n",
       "      <td>0</td>\n",
       "    </tr>\n",
       "    <tr>\n",
       "      <th>1</th>\n",
       "      <td>1</td>\n",
       "      <td>1</td>\n",
       "      <td>0</td>\n",
       "      <td>0.92</td>\n",
       "      <td>1</td>\n",
       "      <td>2</td>\n",
       "      <td>1</td>\n",
       "      <td>0</td>\n",
       "    </tr>\n",
       "    <tr>\n",
       "      <th>2</th>\n",
       "      <td>1</td>\n",
       "      <td>0</td>\n",
       "      <td>1</td>\n",
       "      <td>2.00</td>\n",
       "      <td>1</td>\n",
       "      <td>2</td>\n",
       "      <td>1</td>\n",
       "      <td>0</td>\n",
       "    </tr>\n",
       "    <tr>\n",
       "      <th>3</th>\n",
       "      <td>1</td>\n",
       "      <td>0</td>\n",
       "      <td>0</td>\n",
       "      <td>30.00</td>\n",
       "      <td>1</td>\n",
       "      <td>2</td>\n",
       "      <td>1</td>\n",
       "      <td>0</td>\n",
       "    </tr>\n",
       "    <tr>\n",
       "      <th>4</th>\n",
       "      <td>1</td>\n",
       "      <td>0</td>\n",
       "      <td>1</td>\n",
       "      <td>25.00</td>\n",
       "      <td>1</td>\n",
       "      <td>2</td>\n",
       "      <td>1</td>\n",
       "      <td>0</td>\n",
       "    </tr>\n",
       "    <tr>\n",
       "      <th>5</th>\n",
       "      <td>1</td>\n",
       "      <td>1</td>\n",
       "      <td>0</td>\n",
       "      <td>48.00</td>\n",
       "      <td>0</td>\n",
       "      <td>0</td>\n",
       "      <td>1</td>\n",
       "      <td>0</td>\n",
       "    </tr>\n",
       "    <tr>\n",
       "      <th>6</th>\n",
       "      <td>1</td>\n",
       "      <td>1</td>\n",
       "      <td>1</td>\n",
       "      <td>63.00</td>\n",
       "      <td>1</td>\n",
       "      <td>0</td>\n",
       "      <td>1</td>\n",
       "      <td>0</td>\n",
       "    </tr>\n",
       "    <tr>\n",
       "      <th>7</th>\n",
       "      <td>1</td>\n",
       "      <td>0</td>\n",
       "      <td>0</td>\n",
       "      <td>39.00</td>\n",
       "      <td>0</td>\n",
       "      <td>0</td>\n",
       "      <td>1</td>\n",
       "      <td>0</td>\n",
       "    </tr>\n",
       "    <tr>\n",
       "      <th>8</th>\n",
       "      <td>1</td>\n",
       "      <td>1</td>\n",
       "      <td>1</td>\n",
       "      <td>53.00</td>\n",
       "      <td>2</td>\n",
       "      <td>0</td>\n",
       "      <td>1</td>\n",
       "      <td>0</td>\n",
       "    </tr>\n",
       "    <tr>\n",
       "      <th>9</th>\n",
       "      <td>1</td>\n",
       "      <td>0</td>\n",
       "      <td>0</td>\n",
       "      <td>71.00</td>\n",
       "      <td>0</td>\n",
       "      <td>0</td>\n",
       "      <td>1</td>\n",
       "      <td>0</td>\n",
       "    </tr>\n",
       "  </tbody>\n",
       "</table>\n",
       "</div>"
      ],
      "text/plain": [
       "   pclass  survived  sex    age  sibsp  parch  pclass1  pclass2\n",
       "0       1         1    1  29.00      0      0        1        0\n",
       "1       1         1    0   0.92      1      2        1        0\n",
       "2       1         0    1   2.00      1      2        1        0\n",
       "3       1         0    0  30.00      1      2        1        0\n",
       "4       1         0    1  25.00      1      2        1        0\n",
       "5       1         1    0  48.00      0      0        1        0\n",
       "6       1         1    1  63.00      1      0        1        0\n",
       "7       1         0    0  39.00      0      0        1        0\n",
       "8       1         1    1  53.00      2      0        1        0\n",
       "9       1         0    0  71.00      0      0        1        0"
      ]
     },
     "execution_count": 12,
     "metadata": {},
     "output_type": "execute_result"
    }
   ],
   "source": [
    "data.head(10)"
   ]
  },
  {
   "cell_type": "code",
   "execution_count": 13,
   "metadata": {
    "collapsed": false
   },
   "outputs": [
    {
     "name": "stdout",
     "output_type": "stream",
     "text": [
      "Weights: [-0.84362458  2.40734928 -0.04195199 -0.35754211  0.06716351  2.17872145\n",
      "  0.90809101]\n"
     ]
    }
   ],
   "source": [
    "X = data[['sex', 'age', 'sibsp', 'parch', 'pclass1', 'pclass2']]\n",
    "Y = data['survived']\n",
    "\n",
    "# Separate the data into a training dataset and a testing dataset.\n",
    "# We make the model using the training set and will use the testing\n",
    "# set to test the model's predictive power.\n",
    "X_train, X_test, Y_train, Y_test = train_test_split(X, Y,\n",
    "                                                    test_size=0.25,\n",
    "                                                    random_state=100)\n",
    "\n",
    "# We use the scikit-learn LogisticRegression object to train the model.\n",
    "LR = LogisticRegression()\n",
    "LR.fit(X_train, Y_train)\n",
    "\n",
    "# We get the following weights.\n",
    "print 'Weights:', np.r_[LR.intercept_, LR.coef_[0]]\n"
   ]
  },
  {
   "cell_type": "markdown",
   "metadata": {},
   "source": [
    "## Evaluating the Performance of Our Model"
   ]
  },
  {
   "cell_type": "markdown",
   "metadata": {},
   "source": [
    "To evaluate the predictive power of our model, we will test it on the test set, the data that it wasn't trained on, and then see how many false positive and false negatives we get. Of course, our model gives the probability that someone with given features survives, so we need to set a threshold $\\tau$ such that if $P(Y=1|X)>\\tau$ we say this person survived. From this we can find the false positive rate and true positive rate as functions of $\\tau$. Graphing these rates give what is called a Receiver Operating Characteric (ROC) curve. Intuitively, we want the area under this curve to be as close to 1 as possible, thus we sometimes use the metric Area Under the Curve (AUC) as a measure of how good our model is. "
   ]
  },
  {
   "cell_type": "code",
   "execution_count": 14,
   "metadata": {
    "collapsed": false
   },
   "outputs": [
    {
     "data": {
      "image/png": "[encoded data removed]",
      "text/plain": [
       "<matplotlib.figure.Figure at 0x1deb1438>"
      ]
     },
     "metadata": {},
     "output_type": "display_data"
    },
    {
     "name": "stdout",
     "output_type": "stream",
     "text": [
      "AUC: 0.842974238876\n"
     ]
    }
   ],
   "source": [
    "# Derive the probability of survival for each sample in the test set.\n",
    "probs = LR.predict_proba(X_test)\n",
    "# Derive the false pos rate and true pos rate.\n",
    "fpr, tpr, thresh = roc_curve(Y_test, probs[:,1], pos_label=1)\n",
    "# Graph the ROC curve.\n",
    "plt.plot(fpr, tpr)\n",
    "plt.ylabel('True Positive Rate')\n",
    "plt.xlabel('False Positive Rate')\n",
    "plt.title('Receiver Operating Characteristic (ROC) Curve')\n",
    "plt.show()\n",
    "# Calculate the AUC.\n",
    "print 'AUC:', auc(fpr, tpr)"
   ]
  },
  {
   "cell_type": "markdown",
   "metadata": {},
   "source": [
    "Just for fun lets change some of the features in the model and see what the difference is."
   ]
  },
  {
   "cell_type": "code",
   "execution_count": 15,
   "metadata": {
    "collapsed": false
   },
   "outputs": [
    {
     "data": {
      "image/png": "[encoded data removed]",
      "text/plain": [
       "<matplotlib.figure.Figure at 0x1dbd50b8>"
      ]
     },
     "metadata": {},
     "output_type": "display_data"
    },
    {
     "name": "stdout",
     "output_type": "stream",
     "text": [
      "First AUC: 0.842974238876\n",
      "Second AUC: 0.85181498829\n"
     ]
    }
   ],
   "source": [
    "data['family'] = data['sibsp']+data['parch']\n",
    "data['child'] = (data['age']<10).astype(int)\n",
    "data['old'] = (data['age']>40).astype(int)\n",
    "\n",
    "X = data[['sex', 'child', 'old', 'sibsp', 'parch', 'pclass1', 'pclass2']]\n",
    "Y = data['survived']\n",
    "\n",
    "# Separate the data into a training dataset and a testing dataset. \n",
    "X_train, X_test, Y_train, Y_test = train_test_split(X, Y,\n",
    "                                                    test_size=0.25,\n",
    "                                                    random_state=100)\n",
    "\n",
    "# We use the scikit-learn LogisticRegression object to train the model.\n",
    "LR = LogisticRegression()\n",
    "LR.fit(X_train, Y_train)\n",
    "probs = LR.predict_proba(X_test)\n",
    "\n",
    "fpr2, tpr2, thresh2 = roc_curve(Y_test, probs[:,1], pos_label=1)\n",
    "plt.plot(fpr, tpr, label='First LR')\n",
    "plt.plot(fpr2, tpr2, label='New LR')\n",
    "plt.ylabel('True Positive Rate')\n",
    "plt.xlabel('False Positive Rate')\n",
    "plt.title('Receiver Operating Characteristic (ROC) Curve')\n",
    "plt.legend(loc=4)\n",
    "plt.show()\n",
    "print 'First AUC:', auc(fpr, tpr)\n",
    "print 'Second AUC:', auc(fpr2, tpr2)"
   ]
  },
  {
   "cell_type": "markdown",
   "metadata": {},
   "source": [
    "Maybe there is a slight improvement..."
   ]
  }
 ],
 "metadata": {
  "kernelspec": {
   "display_name": "Python 2",
   "language": "python",
   "name": "python2"
  },
  "language_info": {
   "codemirror_mode": {
    "name": "ipython",
    "version": 2
   },
   "file_extension": ".py",
   "mimetype": "text/x-python",
   "name": "python",
   "nbconvert_exporter": "python",
   "pygments_lexer": "ipython2",
   "version": "2.7.11"
  }
 },
 "nbformat": 4,
 "nbformat_minor": 0
}
